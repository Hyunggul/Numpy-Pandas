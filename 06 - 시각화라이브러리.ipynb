{
 "cells": [
  {
   "cell_type": "markdown",
   "metadata": {
    "id": "ZNBZppDCNroN"
   },
   "source": [
    "# 시각화라이브러리 : matplotlib"
   ]
  },
  {
   "cell_type": "markdown",
   "metadata": {
    "id": "WdTXrolFlihz"
   },
   "source": [
    "* 목표 : matplotlib의 기본 차트 그리기를 익힌다.\n",
    "    * 코드의 기본 구조\n",
    "    * 데이터 요건\n",
    "    * 차트 꾸미기(이 부분은 가져다 사용할 수 있으면 됩니다.)"
   ]
  },
  {
   "cell_type": "markdown",
   "metadata": {
    "id": "LS2rtJiJlaF0"
   },
   "source": [
    "## 1.환경준비"
   ]
  },
  {
   "cell_type": "markdown",
   "metadata": {
    "id": "008n0MaW4w0u"
   },
   "source": [
    "### (1) 라이브러리"
   ]
  },
  {
   "cell_type": "code",
   "execution_count": null,
   "metadata": {
    "id": "ba319GIZlcFB"
   },
   "outputs": [],
   "source": [
    "import pandas as pd\n",
    "import numpy as np\n",
    "\n",
    "# 시각화 라이브러리\n",
    "import matplotlib.pyplot as plt\n",
    "import seaborn as sns"
   ]
  },
  {
   "cell_type": "markdown",
   "metadata": {
    "id": "ydwz2Va-4zFH"
   },
   "source": [
    "### (2) 데이터 불러오기"
   ]
  },
  {
   "cell_type": "markdown",
   "metadata": {
    "id": "AKfZSXkZ7nq6"
   },
   "source": [
    "**[airquality 데이터 셋 정보]**\n",
    "\n",
    "- Ozone: 오존 농도  \n",
    "- Solar.R: 태양복사량\n",
    "- Wind: 풍속\n",
    "- Temp: 기온\n",
    "- Date : 연,월,일"
   ]
  },
  {
   "cell_type": "code",
   "execution_count": null,
   "metadata": {
    "id": "5bYePZL-45qo"
   },
   "outputs": [],
   "source": [
    "path = 'https://raw.githubusercontent.com/DA4BAM/dataset/master/airquality_simple2.csv'\n",
    "data = pd.read_csv(path)\n",
    "data['Date'] = pd.to_datetime(data['Date'])\n",
    "data.dropna(axis = 0, inplace = True)\n",
    "data.head()"
   ]
  },
  {
   "cell_type": "markdown",
   "metadata": {
    "id": "vTLZ6yfgFy49"
   },
   "source": [
    "## 2.기본차트 그리기"
   ]
  },
  {
   "cell_type": "markdown",
   "metadata": {
    "id": "KUFdkjNwmU_U"
   },
   "source": [
    "### (1) 차트 그리기\n",
    "\n",
    "* plt.plot(1차원 값)\n",
    "    * x축 : 인덱스\n",
    "    * y축 : 1차원 값\n",
    "    * 라인차트를 그려줍니다."
   ]
  },
  {
   "cell_type": "code",
   "execution_count": null,
   "metadata": {
    "id": "xXWd2lNXNroR"
   },
   "outputs": [],
   "source": [
    "# 차트 그리기\n",
    "plt.plot(data['Temp'])\n",
    "\n",
    "# 화면에 보여주기\n",
    "plt.show()"
   ]
  },
  {
   "cell_type": "markdown",
   "metadata": {
    "id": "N3BRc7-dmcXb"
   },
   "source": [
    "### (2) x축과 y축의 값 지정하기  \n",
    "* plt.plot(x축, y축)"
   ]
  },
  {
   "cell_type": "code",
   "execution_count": null,
   "metadata": {
    "id": "j-r4SkGBmcRK"
   },
   "outputs": [],
   "source": [
    "# 타입1\n",
    "plt.plot(data['Date'], data['Temp'])\n",
    "plt.show()"
   ]
  },
  {
   "cell_type": "markdown",
   "metadata": {
    "id": "R8gTztCBWueb"
   },
   "source": [
    "* plt.plot(x축, y축, data = )"
   ]
  },
  {
   "cell_type": "code",
   "execution_count": null,
   "metadata": {
    "id": "MtCCmK9VV3NS"
   },
   "outputs": [],
   "source": [
    "# 타입2\n",
    "plt.plot('Date', 'Temp', data = data)\n",
    "plt.show()"
   ]
  },
  {
   "cell_type": "markdown",
   "metadata": {
    "id": "xSWBmU_Yeu5A"
   },
   "source": [
    "<img src='https://raw.githubusercontent.com/jangrae/img/master/practice_01.png' width=120 align=\"left\"/>"
   ]
  },
  {
   "cell_type": "markdown",
   "metadata": {
    "id": "j90GjJvmnRGU"
   },
   "source": [
    "아래 값으로 차트를 그리시오.\n",
    "\n",
    "* x 축 : Date\n",
    "* y 축 : Ozone\n"
   ]
  },
  {
   "cell_type": "code",
   "execution_count": null,
   "metadata": {
    "id": "GBPWfoE2nVDa"
   },
   "outputs": [],
   "source": []
  },
  {
   "cell_type": "markdown",
   "metadata": {
    "id": "0waRvlbgF60A"
   },
   "source": [
    "## 3.차트 꾸미기\n",
    "\n",
    "https://matplotlib.org/2.1.2/api/_as_gen/matplotlib.pyplot.plot.html"
   ]
  },
  {
   "cell_type": "markdown",
   "metadata": {
    "id": "C98lJocCn-uy"
   },
   "source": [
    "### (1) x축, y축 이름, 타이틀 붙이기"
   ]
  },
  {
   "cell_type": "code",
   "execution_count": null,
   "metadata": {
    "id": "Bnn3k1kNNroV"
   },
   "outputs": [],
   "source": [
    "plt.plot(data['Date'], data['Ozone'])\n",
    "\n",
    "plt.xticks(rotation = 30)       # x축 값 꾸미기 : 방향을 30도 틀어서\n",
    "plt.xlabel('Date')              # x축 이름 지정\n",
    "plt.ylabel('Ozone')             # y축 이름 지정\n",
    "plt.title('Daily Airquality')   # 타이틀\n",
    "\n",
    "plt.show()"
   ]
  },
  {
   "cell_type": "markdown",
   "metadata": {
    "id": "LMyznJLmoI0C"
   },
   "source": [
    "### (2) 라인 스타일 조정하기\n",
    "\n",
    "* color=  \n",
    "    * 'red','green','blue' ...\n",
    "    * 혹은 'r', 'g', 'b', ...\n",
    "    * https://matplotlib.org/stable/gallery/color/named_colors.html\n",
    "* linestyle= \n",
    "    * 'solid', 'dashed', 'dashdot', 'dotted'\n",
    "    * 혹은 '-' , '--' , '-.' , ':' \n",
    "* marker=\n",
    "\n",
    "| marker |\tdescription |\n",
    "| ---- | ---- |\n",
    "|\".\" |\tpoint |\n",
    "|\",\" |\tpixel |\n",
    "|\"o\" |\tcircle |\n",
    "|\"v\" |\ttriangle_down |\n",
    "|\"^\" |\ttriangle_up |\n",
    "|\"<\" |\ttriangle_left |\n",
    "|\">\" |\ttriangle_right |"
   ]
  },
  {
   "cell_type": "code",
   "execution_count": null,
   "metadata": {
    "id": "mhNL2hSroJuE"
   },
   "outputs": [],
   "source": [
    "plt.plot(data['Date'], data['Ozone']\n",
    "         ,color='green'                # 칼러\n",
    "         , linestyle='dotted'          # 라인스타일\n",
    "         , marker='o')                 # 값 마커(모양)\n",
    "\n",
    "plt.xlabel('Date') \n",
    "plt.ylabel('Ozone')\n",
    "plt.title('Daily Airquality')\n",
    "plt.xticks(rotation=45)\n",
    "\n",
    "plt.show()"
   ]
  },
  {
   "cell_type": "markdown",
   "metadata": {
    "id": "C31O3jSkoV7C"
   },
   "source": [
    "### (3) 여러 그래프 겹쳐서 그리기"
   ]
  },
  {
   "cell_type": "code",
   "execution_count": null,
   "metadata": {
    "id": "kd1TajmgoWtR"
   },
   "outputs": [],
   "source": [
    "# 첫번째 그래프\n",
    "plt.plot(data['Date'], data['Ozone'], color='green', linestyle='dotted', marker='o')\n",
    "# 두번째 그래프\n",
    "plt.plot(data['Date'], data['Temp'], color='r', linestyle='-', marker='s')\n",
    "\n",
    "plt.xlabel('Date') \n",
    "plt.ylabel('Ozone')\n",
    "plt.title('Daily Airquality')\n",
    "plt.xticks(rotation=45)\n",
    "\n",
    "# 위 그래프와 설정 한꺼번에 보여주기\n",
    "plt.show()"
   ]
  },
  {
   "cell_type": "markdown",
   "metadata": {
    "id": "aP4e_tnRocl6"
   },
   "source": [
    "### (4) 범례, 그리드 추가"
   ]
  },
  {
   "cell_type": "code",
   "execution_count": null,
   "metadata": {
    "id": "7GTVwX3PoeZK"
   },
   "outputs": [],
   "source": [
    "plt.plot(data['Date'], data['Ozone'], label = 'Ozone')  # label = : 범례추가를 위한 레이블값\n",
    "plt.plot(data['Date'], data['Temp'], label = 'Temp')\n",
    "\n",
    "plt.legend(loc = 'upper right')    # 레이블 표시하기. loc = : 위치\n",
    "plt.grid()\n",
    "\n",
    "plt.show()"
   ]
  },
  {
   "cell_type": "markdown",
   "metadata": {
    "id": "__nnkr0qovnu"
   },
   "source": [
    "<img src='https://raw.githubusercontent.com/jangrae/img/master/practice_01.png' width=120 align=\"left\"/>"
   ]
  },
  {
   "cell_type": "markdown",
   "metadata": {
    "id": "33UTDZYNohRW"
   },
   "source": [
    "아래 조건에 맞게 그래프를 그려 봅시다.\n",
    "\n",
    "* 그래프1 : Date, Ozone\n",
    "* 그래프2 : Date, Temp\n",
    "* 그래프3 : Date, Wind\n",
    "\n",
    "* x축 이름 : Date\n",
    "* title : Airquality\n",
    "* legend 추가\n",
    "* grid 추가\n",
    "* 그래프 크기 : 12,8  (이 부분은 배우지는 않았습니다. 아래 4.추가기능 - (3) 그래프 크기 조정 부분을 참조하여 적용해 봅시다.)\n"
   ]
  },
  {
   "cell_type": "code",
   "execution_count": null,
   "metadata": {
    "id": "0YylS8VeJNVd"
   },
   "outputs": [],
   "source": []
  },
  {
   "cell_type": "markdown",
   "metadata": {
    "id": "CYK1kClgE772"
   },
   "source": [
    "**교육과정은 여기까지 다룹니다. 아래 추가 기능은 필요시 살펴보시기 바랍니다.**"
   ]
  },
  {
   "cell_type": "markdown",
   "metadata": {
    "id": "vkp7gTCuV_QP"
   },
   "source": [
    "## 4.추가기능① "
   ]
  },
  {
   "cell_type": "markdown",
   "metadata": {
    "id": "fNfPKXAkHB_L"
   },
   "source": [
    "### (1) 데이터프레임.plot()\n",
    "* https://pandas.pydata.org/docs/reference/api/pandas.DataFrame.plot.html"
   ]
  },
  {
   "cell_type": "code",
   "execution_count": null,
   "metadata": {
    "id": "eRxl2hZGGihO"
   },
   "outputs": [],
   "source": [
    "data.plot(x = 'Date', y = ['Temp','Ozone']\n",
    "          , title = 'Daily Airquality')\n",
    "plt.grid()\n",
    "plt.show()"
   ]
  },
  {
   "cell_type": "markdown",
   "metadata": {
    "id": "QJtTdnImLQ7k"
   },
   "source": [
    "<img src='https://raw.githubusercontent.com/jangrae/img/master/practice_01.png' width=120 align=\"left\"/>"
   ]
  },
  {
   "cell_type": "markdown",
   "metadata": {
    "id": "xr1RD87rLQ7l"
   },
   "source": [
    "아래 조건에 맞게 그래프를 그려 봅시다.(이번에는 데이터프레임.plot 으로 그려 봅시다.)\n",
    "\n",
    "* 값\n",
    "    * x축 : Date\n",
    "    * y축 : Ozone, Temp, Wind\n",
    "* x축 이름 : Date\n",
    "* title : Airquality\n",
    "* legend 추가\n",
    "* grid 추가\n",
    "* 그래프 크기 : 12,8\n",
    "    * .plot(   , figsize=(12, 8)) \n"
   ]
  },
  {
   "cell_type": "code",
   "execution_count": null,
   "metadata": {
    "id": "6thH5cmpoipq"
   },
   "outputs": [],
   "source": []
  },
  {
   "cell_type": "markdown",
   "metadata": {
    "id": "IejhSEfjpBBf"
   },
   "source": [
    "### (2) 축 범위 조정하기"
   ]
  },
  {
   "cell_type": "code",
   "execution_count": null,
   "metadata": {
    "id": "eYGDe90iNroY",
    "scrolled": true
   },
   "outputs": [],
   "source": [
    "dict1 = {'v1': [1,2,3,4,5], 'v2': [2,5,3,1,2], 'v3':[4,6,7,6,5]}\n",
    "\n",
    "plt.plot('v1', 'v3', 'rs-', data = dict1, label = 'mango')\n",
    "plt.xlim(0, 6)\n",
    "plt.ylim(0, 8)\n",
    "plt.grid()\n",
    "plt.show()"
   ]
  },
  {
   "cell_type": "markdown",
   "metadata": {
    "id": "epz08DXFpIKB"
   },
   "source": [
    "### (3) 그래프 크기 조정\n",
    "\n",
    "    * default size는 6.4, 4.4"
   ]
  },
  {
   "cell_type": "code",
   "execution_count": null,
   "metadata": {
    "id": "QxhGp5t9pFoC"
   },
   "outputs": [],
   "source": [
    "dict1 = {'v1': [1,2,3,4,5], 'v2': [2,5,3,1,2], 'v3':[4,6,7,6,5]}\n",
    "\n",
    "plt.figure(figsize = (4, 3))\n",
    "plt.plot('v1', 'v3', 'rs-', data = dict1, label = 'mango')\n",
    "plt.grid()\n",
    "plt.show()"
   ]
  },
  {
   "cell_type": "markdown",
   "metadata": {
    "id": "regZGcHJpNvC"
   },
   "source": [
    "### (4) 수평선 수직선 추가"
   ]
  },
  {
   "cell_type": "code",
   "execution_count": null,
   "metadata": {
    "id": "UDj5jMGTpNmT"
   },
   "outputs": [],
   "source": [
    "dict1 = {'v1': [1,2,3,4,5], 'v2': [2,5,3,1,2], 'v3':[4,6,7,6,5]}\n",
    "\n",
    "plt.plot('v1', 'v3', 'rs-', data = dict1, label = 'mango')\n",
    "plt.axhline(5.3, color = 'grey', linestyle = '--')\n",
    "plt.axvline(2.4, color = 'grey', linestyle = '--')\n",
    "plt.show()"
   ]
  },
  {
   "cell_type": "markdown",
   "metadata": {
    "id": "BAP5dDvgpSsz"
   },
   "source": [
    "### (5) 그래프에 텍스트 추가"
   ]
  },
  {
   "cell_type": "code",
   "execution_count": null,
   "metadata": {
    "id": "JK0sO0rupSmT"
   },
   "outputs": [],
   "source": [
    "dict1 = {'v1': [1,2,3,4,5], 'v2': [2,5,3,1,2], 'v3':[4,6,7,6,5]}\n",
    "\n",
    "plt.plot('v1', 'v3', 'rs-', data = dict1, label = 'mango')\n",
    "plt.axhline(5.3, color = 'grey', linestyle = '--')\n",
    "plt.axvline(2.4, color = 'grey', linestyle = '--')\n",
    "\n",
    "plt.text(2.5, 4.2, '2.4')\n",
    "plt.text(1.2, 5.4, '5.3')\n",
    "\n",
    "plt.show()"
   ]
  },
  {
   "cell_type": "markdown",
   "metadata": {
    "id": "J-t-iZUHprWY"
   },
   "source": [
    "<img src='https://raw.githubusercontent.com/jangrae/img/master/practice_01.png' width=120 align=\"left\"/>"
   ]
  },
  {
   "cell_type": "markdown",
   "metadata": {
    "id": "cLgAb8wKpXXx"
   },
   "source": [
    "아래 정보로 그래프를 그려 봅시다.\n",
    "\n",
    "    dict1 = {'x':[1,2,3,4,5,6,7,8,9,10,11,12], 'y':[21,56,32,18,27,54,35,49,92,87,74,76]}\n",
    "\n",
    "* x축에 'x', y축에 'y'로 라인차트를 그리시오.\n",
    "* x축 이름 : month\n",
    "* y축 이름 : Income\n",
    "* title : Monthly Income\n",
    "* y값의 평균선 추가\n",
    "* 적절한 위치에 평균값 추가."
   ]
  },
  {
   "cell_type": "code",
   "execution_count": null,
   "metadata": {
    "id": "xHn_ClrTpXyp"
   },
   "outputs": [],
   "source": []
  },
  {
   "cell_type": "markdown",
   "metadata": {
    "id": "u4PLAMFCXTo_"
   },
   "source": [
    "## 5.추가기능② : 여러 그래프 나눠서 그리기"
   ]
  },
  {
   "cell_type": "markdown",
   "metadata": {
    "id": "L6kLdMQVrixx"
   },
   "source": [
    "![](https://codetorial.net/matplotlib/_images/subplot_03.png)\n",
    "\n",
    "* row : 고정된 행 수\n",
    "* column : 고정된 열 수\n",
    "* index : 순서"
   ]
  },
  {
   "cell_type": "markdown",
   "metadata": {
    "id": "I8I2aFxLpwuh"
   },
   "source": [
    "### (1) 위, 아래로(2행 1열) 그래프 그리기."
   ]
  },
  {
   "cell_type": "code",
   "execution_count": null,
   "metadata": {
    "id": "wMhyj0pkXTpA",
    "scrolled": true
   },
   "outputs": [],
   "source": [
    "dict1 = {'v1': [1,2,3,4,5], 'v2': [2,5,3,1,2], 'v3':[4,6,7,6,5]}\n",
    "\n",
    "plt.subplot(2,1,1)\n",
    "plt.plot('v1', 'v2', 'go--', data = dict1)\n",
    "\n",
    "plt.subplot(2,1,2)\n",
    "plt.plot('v1', 'v3', 'rs-', data = dict1)\n",
    "\n",
    "plt.tight_layout() # 그래프간 간격을 적절히 맞추기\n",
    "plt.show()"
   ]
  },
  {
   "cell_type": "markdown",
   "metadata": {
    "id": "w44PwCIOp7n0"
   },
   "source": [
    "### (2) 옆으로 (1행 2열) 그래프 그리기."
   ]
  },
  {
   "cell_type": "code",
   "execution_count": null,
   "metadata": {
    "id": "t2408sFip8FS"
   },
   "outputs": [],
   "source": [
    "dict1 = {'v1': [1,2,3,4,5], 'v2': [2,5,3,1,2], 'v3':[4,6,7,6,5]}\n",
    "\n",
    "plt.subplot(1,2,1)\n",
    "plt.plot('v1', 'v2', 'go--', data = dict1)\n",
    "\n",
    "plt.subplot(1,2,2)\n",
    "plt.plot('v1', 'v3', 'rs-', data = dict1)\n",
    "\n",
    "plt.tight_layout() # 그래프간 간격을 적절히 맞추기\n",
    "plt.show()"
   ]
  },
  {
   "cell_type": "markdown",
   "metadata": {
    "id": "ahjmR9hbqEkf"
   },
   "source": [
    "<img src='https://raw.githubusercontent.com/jangrae/img/master/practice_01.png' width=120 align=\"left\"/>"
   ]
  },
  {
   "cell_type": "markdown",
   "metadata": {
    "id": "4-C6ZW1gqCF5"
   },
   "source": [
    "아래 정보로 그래프를 그려 봅시다.\n",
    "\n",
    "    dict1 = {'x':[1,2,3,4,5,6,7,8,9,10,11,12], 'y1':[21,56,32,18,27,54,35,49,92,87,74,76], 'y2':[31,52,42,25,22,24,38,39,72,77,94,86]}\n",
    "\n",
    "* 그래프1 : x, y1\n",
    "* 그래프2 : x, y2\n",
    "* 1행, 2열로 그래프를 그리시오."
   ]
  },
  {
   "cell_type": "code",
   "execution_count": null,
   "metadata": {
    "id": "WRdYf2mWqB9K"
   },
   "outputs": [],
   "source": []
  },
  {
   "cell_type": "markdown",
   "metadata": {
    "id": "4ca7qS7g0nZE"
   },
   "source": [
    "## 6.몇가지 차트들"
   ]
  },
  {
   "cell_type": "markdown",
   "metadata": {
    "id": "aMGlv-u90tBo"
   },
   "source": [
    "### (1) 하나의 변수 표현"
   ]
  },
  {
   "cell_type": "markdown",
   "metadata": {
    "id": "CQzFk70s1Ebf"
   },
   "source": [
    "* 히스토그램"
   ]
  },
  {
   "cell_type": "code",
   "execution_count": null,
   "metadata": {
    "id": "2lq0mDWe0qIL"
   },
   "outputs": [],
   "source": [
    "plt.hist(data['Temp'])\n",
    "plt.show()"
   ]
  },
  {
   "cell_type": "markdown",
   "metadata": {
    "id": "nvrladvi1ZhD"
   },
   "source": [
    "* density plot"
   ]
  },
  {
   "cell_type": "code",
   "execution_count": null,
   "metadata": {
    "id": "XETyZEJd1ZhD"
   },
   "outputs": [],
   "source": [
    "sns.kdeplot(data['Temp'])\n",
    "plt.show()"
   ]
  },
  {
   "cell_type": "markdown",
   "metadata": {
    "id": "B2pAJc5R1jER"
   },
   "source": [
    "* boxplot"
   ]
  },
  {
   "cell_type": "code",
   "execution_count": null,
   "metadata": {
    "id": "ekeuRiWg1JkO"
   },
   "outputs": [],
   "source": [
    "plt.boxplot(data['Temp'])\n",
    "plt.show()"
   ]
  },
  {
   "cell_type": "markdown",
   "metadata": {
    "id": "v2rymVXU2eqi"
   },
   "source": [
    "### (2) 두 변수 비교"
   ]
  },
  {
   "cell_type": "markdown",
   "metadata": {
    "id": "1u5s--Qm2pfp"
   },
   "source": [
    "* 산점도"
   ]
  },
  {
   "cell_type": "code",
   "execution_count": null,
   "metadata": {
    "id": "Kor9AyzZ1lzW"
   },
   "outputs": [],
   "source": [
    "plt.scatter(data['Temp'], data['Ozone'])\n",
    "plt.show()"
   ]
  },
  {
   "cell_type": "markdown",
   "metadata": {
    "id": "PsXpZDaY22Hv"
   },
   "source": [
    "* 평균 비교 barplot"
   ]
  },
  {
   "cell_type": "code",
   "execution_count": null,
   "metadata": {
    "id": "pzpCYFEk2loK"
   },
   "outputs": [],
   "source": [
    "data['Weekday'] = data['Date'].dt.weekday"
   ]
  },
  {
   "cell_type": "code",
   "execution_count": null,
   "metadata": {
    "id": "JGV6Elnh29qt"
   },
   "outputs": [],
   "source": [
    "sns.barplot(x='Weekday',y='Ozone', data = data)\n",
    "plt.show()"
   ]
  },
  {
   "cell_type": "code",
   "execution_count": null,
   "metadata": {
    "id": "gQK4vuFf3FGy"
   },
   "outputs": [],
   "source": []
  }
 ],
 "metadata": {
  "colab": {
   "provenance": [],
   "toc_visible": true
  },
  "kernelspec": {
   "display_name": "Python 3 (ipykernel)",
   "language": "python",
   "name": "python3"
  },
  "language_info": {
   "codemirror_mode": {
    "name": "ipython",
    "version": 3
   },
   "file_extension": ".py",
   "mimetype": "text/x-python",
   "name": "python",
   "nbconvert_exporter": "python",
   "pygments_lexer": "ipython3",
   "version": "3.9.13"
  }
 },
 "nbformat": 4,
 "nbformat_minor": 4
}
